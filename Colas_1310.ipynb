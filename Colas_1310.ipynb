{
  "nbformat": 4,
  "nbformat_minor": 0,
  "metadata": {
    "colab": {
      "name": "Colas_1310.ipynb",
      "provenance": [],
      "collapsed_sections": []
    },
    "kernelspec": {
      "name": "python3",
      "display_name": "Python 3"
    },
    "language_info": {
      "name": "python"
    }
  },
  "cells": [
    {
      "cell_type": "code",
      "metadata": {
        "id": "ruPWRoD-J8aT"
      },
      "source": [
        "class Queue:\n",
        "    def __init__(self):\n",
        "        self.data = []\n",
        "\n",
        "    def is_empty( self):\n",
        "        return len(self.data) == 0\n",
        "\n",
        "    def lenght(self):\n",
        "        return len(self.data)   \n",
        "\n",
        "    def enqueue( self , value):\n",
        "        self.data.append(value)\n",
        "\n",
        "    def dequeue( self):\n",
        "        return self.data.pop(0)\n",
        "\n",
        "    def to_string(self):\n",
        "        for elem in self.data:\n",
        "          print(f'|{elem}| <-- ' , end=\"\")\n",
        "        print(\"\")  \n",
        "        "
      ],
      "execution_count": 14,
      "outputs": []
    },
    {
      "cell_type": "code",
      "metadata": {
        "colab": {
          "base_uri": "https://localhost:8080/"
        },
        "id": "4OI2ZUYfNgDA",
        "outputId": "8894f906-5ab9-47b3-ad66-9da8f10992ea"
      },
      "source": [
        "cola = Queue()\n",
        "print(\"¿Esta vacio?\", cola.is_empty())\n",
        "print(\"Numero de elementos: \", cola.lenght())\n",
        "cola.enqueue(10)\n",
        "cola.enqueue(20)\n",
        "cola.enqueue(30)\n",
        "print(f'¿Esta vacio?', cola.is_empty())\n",
        "print(\"Numero de elementos: \", cola.lenght())\n",
        "cola.enqueue(40)\n",
        "cola.enqueue(50)\n",
        "cola.enqueue(60)\n",
        "cola.to_string()\n",
        "cola.dequeue()\n",
        "siguiente = cola.dequeue()\n",
        "print(\"Atendiendo a:\", siguiente)\n",
        "cola.to_string()"
      ],
      "execution_count": 19,
      "outputs": [
        {
          "output_type": "stream",
          "name": "stdout",
          "text": [
            "¿Esta vacio? True\n",
            "Numero de elementos:  0\n",
            "¿Esta vacio? False\n",
            "Numero de elementos:  3\n",
            "|10| <-- |20| <-- |30| <-- |40| <-- |50| <-- |60| <-- \n",
            "Atendiendo a: 20\n",
            "|30| <-- |40| <-- |50| <-- |60| <-- \n"
          ]
        }
      ]
    },
    {
      "cell_type": "markdown",
      "metadata": {
        "id": "8-ef7g-KQmw0"
      },
      "source": [
        "# Variantes del ADT Cola\n",
        "1. Circulares\n",
        "2. Prioridad\n",
        "    1. acotada\n",
        "    2. no acotada\n",
        "    "
      ]
    }
  ]
}